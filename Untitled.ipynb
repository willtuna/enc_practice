{
 "cells": [
  {
   "cell_type": "code",
   "execution_count": 65,
   "metadata": {
    "collapsed": true
   },
   "outputs": [],
   "source": [
    "import numpy as np\n",
    "from fractions import gcd\n",
    "from numpy.polynomial import Polynomial as P\n",
    "\n",
    "def inv_mod_N(a,N):\n",
    "    vec1 = np.asarray([1,0])\n",
    "    vec2 = np.asarray([0,1])\n",
    "    \n",
    "    rem1 = a\n",
    "    rem2 = N\n",
    "    \n",
    "    while True:\n",
    "        quo1,rem1 = divmod(rem1,rem2)\n",
    "        vec1 = vec1 - quo1*vec2\n",
    "    \n",
    "        if(rem1 == 0 ):\n",
    "            return vec2[0]\n",
    "\n",
    "        quo2,rem2 = divmod(rem2,rem1)\n",
    "        vec2 = vec2 - quo2*vec1\n",
    "    \n",
    "        if(rem2 == 0 ):\n",
    "            return vec1[0]\n",
    "def poly_modN(polya, N):\n",
    "    li = []\n",
    "    for val in polya.coef:\n",
    "        li.append(val % N)\n",
    "    return P(li)\n",
    "\n",
    "# Polynomial Version\n",
    "def polynomial_div_modN(dividend, divisor, N):\n",
    "    acc  = P(0)\n",
    "    while True:\n",
    "        dividend = poly_modN(dividend,N)\n",
    "        divisor  = poly_modN(divisor,N)\n",
    "        deg_diff = dividend.degree() - divisor.degree()\n",
    "        if(deg_diff < 0 or dividend == P(0) ):\n",
    "            return acc ,dividend\n",
    "        else:\n",
    "            coef = dividend.coef[-1] * inv_mod_N(divisor.coef[-1],N)\n",
    "            mult = [0]*(deg_diff+1)\n",
    "            mult[-1] = coef\n",
    "            poly_mult = P(mult)\n",
    "            acc += poly_mult\n",
    "            acc = poly_modN(acc,N)\n",
    "            print(\" A  \",dividend.coef)\n",
    "            print(\"-B: \",(poly_mult*divisor).coef)\n",
    "            dividend = dividend - poly_mult*divisor\n",
    "\n",
    "\n",
    "\n",
    "\n",
    "\n",
    "def poly_ring_mult_over_q_with_irr(poly1,poly2,irr,q):\n",
    "    tmp_poly = poly1*poly2\n",
    "    tmp_irr  = irr\n",
    "    quo,rem = divmod(tmp_poly,tmp_irr)\n",
    "\n",
    "    result = np.zeros_like(rem.coef)\n",
    "    for idx,val in enumerate(rem.coef):\n",
    "        val = val % q\n",
    "        if(val < 0):\n",
    "            result[idx] = val + q\n",
    "        else:\n",
    "            result[idx] = val\n",
    "    return result"
   ]
  },
  {
   "cell_type": "code",
   "execution_count": 66,
   "metadata": {
    "collapsed": true
   },
   "outputs": [],
   "source": [
    "#q = 73\n",
    "#R1 = [-1,0,0,0,0,0,0,0,0,0,0,1]\n",
    "#R2 = [-1,0,1,-1,0,0,0,0,1,0,1]\n",
    "# Test Pass\n",
    "q = 41\n",
    "R1 = [-1,0,0,0,0, 0,0,1]\n",
    "R2 = [-1,0,1,1,-1,0,1]\n",
    "rem_poly1 = P(R1)\n",
    "rem_poly2 = P(R2)\n",
    "#quo,rem = polynomial_div_modN(rem_poly1,rem_poly2,q)\n",
    "#print(\"R1\",rem_poly1.coef ,'divide R2',rem_poly2.coef)\n",
    "#print(\"Quotient\",quo.coef)\n",
    "#print(\"Remainder\",rem.coef)"
   ]
  },
  {
   "cell_type": "code",
   "execution_count": 68,
   "metadata": {},
   "outputs": [
    {
     "name": "stdout",
     "output_type": "stream",
     "text": [
      "[ 33.   0.   0.   0.   0.   0.   0.]\n"
     ]
    }
   ],
   "source": [
    "print(poly_ring_mult_over_q_with_irr(rem_poly2,P([32. , 25. ,  8. , 37. , 39. , 38.,  18.]),rem_poly1,q))"
   ]
  },
  {
   "cell_type": "code",
   "execution_count": null,
   "metadata": {
    "collapsed": true
   },
   "outputs": [],
   "source": []
  }
 ],
 "metadata": {
  "kernelspec": {
   "display_name": "Python 3",
   "language": "python",
   "name": "python3"
  },
  "language_info": {
   "codemirror_mode": {
    "name": "ipython",
    "version": 3
   },
   "file_extension": ".py",
   "mimetype": "text/x-python",
   "name": "python",
   "nbconvert_exporter": "python",
   "pygments_lexer": "ipython3",
   "version": "3.5.2"
  }
 },
 "nbformat": 4,
 "nbformat_minor": 2
}
